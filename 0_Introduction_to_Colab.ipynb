{
  "nbformat": 4,
  "nbformat_minor": 0,
  "metadata": {
    "colab": {
      "name": "0_Introduction to Colab.ipynb",
      "provenance": [],
      "mount_file_id": "1yVKv51bUBp1Plty5hooYKKOFQWWnSFyB",
      "authorship_tag": "ABX9TyNj9Vz0gdfmEf5S1+XBDM1Y",
      "include_colab_link": true
    },
    "kernelspec": {
      "name": "python3",
      "display_name": "Python 3"
    }
  },
  "cells": [
    {
      "cell_type": "markdown",
      "metadata": {
        "id": "view-in-github",
        "colab_type": "text"
      },
      "source": [
        "<a href=\"https://colab.research.google.com/github/bvkranthi/test1/blob/main/0_Introduction_to_Colab.ipynb\" target=\"_parent\"><img src=\"https://colab.research.google.com/assets/colab-badge.svg\" alt=\"Open In Colab\"/></a>"
      ]
    },
    {
      "cell_type": "markdown",
      "metadata": {
        "id": "VR5ffU4_P1Mz"
      },
      "source": [
        "Note: As Colab implicitly uses Google Drive for storing your notebooks, ensure that you\n",
        "are logged in to your Google Drive account before proceeding further."
      ]
    },
    {
      "cell_type": "markdown",
      "metadata": {
        "id": "6etKCj3ZQNqQ"
      },
      "source": [
        "Open the following URL in your browser: https://colab.research.google.com\n",
        "\n",
        "![picture](https://www.tutorialspoint.com/google_colab/images/colab_search.jpg)"
      ]
    },
    {
      "cell_type": "code",
      "metadata": {
        "id": "nebRyid79eTX",
        "colab": {
          "base_uri": "https://localhost:8080/"
        },
        "outputId": "9dfcb584-8d15-4339-ca6a-148a7a6e51ac"
      },
      "source": [
        "!pwd"
      ],
      "execution_count": 20,
      "outputs": [
        {
          "output_type": "stream",
          "text": [
            "/content/own_data_cnn_implementation_keras\n"
          ],
          "name": "stdout"
        }
      ]
    },
    {
      "cell_type": "code",
      "metadata": {
        "id": "TiFs9XQF9zKe",
        "colab": {
          "base_uri": "https://localhost:8080/"
        },
        "outputId": "1a168968-eea4-4f9d-c297-f3ca5e82ebd6"
      },
      "source": [
        "cd sample_data/"
      ],
      "execution_count": 21,
      "outputs": [
        {
          "output_type": "stream",
          "text": [
            "[Errno 2] No such file or directory: 'sample_data/'\n",
            "/content/own_data_cnn_implementation_keras\n"
          ],
          "name": "stdout"
        }
      ]
    },
    {
      "cell_type": "code",
      "metadata": {
        "id": "Ho1xr83F97He",
        "colab": {
          "base_uri": "https://localhost:8080/"
        },
        "outputId": "6b75de5d-855d-40a0-d9e7-b429fa8d75c9"
      },
      "source": [
        "!ls"
      ],
      "execution_count": 22,
      "outputs": [
        {
          "output_type": "stream",
          "text": [
            "_config.yml  custom_data_cnn.py  data  README.md  updated_custom_data_cnn.py\n"
          ],
          "name": "stdout"
        }
      ]
    },
    {
      "cell_type": "code",
      "metadata": {
        "colab": {
          "base_uri": "https://localhost:8080/"
        },
        "id": "pddaM3sziD0G",
        "outputId": "5387a98f-0967-405e-9554-3b9c9cb71c47"
      },
      "source": [
        "cd .."
      ],
      "execution_count": 23,
      "outputs": [
        {
          "output_type": "stream",
          "text": [
            "/content\n"
          ],
          "name": "stdout"
        }
      ]
    },
    {
      "cell_type": "code",
      "metadata": {
        "id": "nqeMtZPF9_BG",
        "colab": {
          "base_uri": "https://localhost:8080/"
        },
        "outputId": "1ba6dc1c-988d-4c7b-a8e2-3b3c01663f7c"
      },
      "source": [
        "!git clone https://github.com/anujshah1003/own_data_cnn_implementation_keras.git"
      ],
      "execution_count": 24,
      "outputs": [
        {
          "output_type": "stream",
          "text": [
            "fatal: destination path 'own_data_cnn_implementation_keras' already exists and is not an empty directory.\n"
          ],
          "name": "stdout"
        }
      ]
    },
    {
      "cell_type": "code",
      "metadata": {
        "id": "wkWQ7Gp0-OvW",
        "colab": {
          "base_uri": "https://localhost:8080/"
        },
        "outputId": "499d4057-9a94-40c7-d395-bbc2f183f0f3"
      },
      "source": [
        "cd own_data_cnn_implementation_keras/"
      ],
      "execution_count": 25,
      "outputs": [
        {
          "output_type": "stream",
          "text": [
            "/content/own_data_cnn_implementation_keras\n"
          ],
          "name": "stdout"
        }
      ]
    },
    {
      "cell_type": "code",
      "metadata": {
        "id": "LNz0CABp-R01",
        "colab": {
          "base_uri": "https://localhost:8080/"
        },
        "outputId": "7270d072-9c53-4097-fb11-41ee330d6881"
      },
      "source": [
        "!ls"
      ],
      "execution_count": 26,
      "outputs": [
        {
          "output_type": "stream",
          "text": [
            "_config.yml  custom_data_cnn.py  data  README.md  updated_custom_data_cnn.py\n"
          ],
          "name": "stdout"
        }
      ]
    },
    {
      "cell_type": "code",
      "metadata": {
        "id": "5fJmDdvC-Utl",
        "colab": {
          "base_uri": "https://localhost:8080/"
        },
        "outputId": "239bcd5d-5892-4451-eff2-fd6ab33999dd"
      },
      "source": [
        "!unzip data.zip"
      ],
      "execution_count": 27,
      "outputs": [
        {
          "output_type": "stream",
          "text": [
            "unzip:  cannot find or open data.zip, data.zip.zip or data.zip.ZIP.\n"
          ],
          "name": "stdout"
        }
      ]
    },
    {
      "cell_type": "code",
      "metadata": {
        "id": "LIh9ammN-Yf9",
        "colab": {
          "base_uri": "https://localhost:8080/"
        },
        "outputId": "390fe351-7622-4130-d1b5-708adf14465e"
      },
      "source": [
        "!ls"
      ],
      "execution_count": 28,
      "outputs": [
        {
          "output_type": "stream",
          "text": [
            "_config.yml  custom_data_cnn.py  data  README.md  updated_custom_data_cnn.py\n"
          ],
          "name": "stdout"
        }
      ]
    },
    {
      "cell_type": "code",
      "metadata": {
        "id": "K0FlN5GU-c2_",
        "colab": {
          "base_uri": "https://localhost:8080/"
        },
        "outputId": "59992d9a-a622-4ade-ed58-3dd270496584"
      },
      "source": [
        "cd data"
      ],
      "execution_count": 29,
      "outputs": [
        {
          "output_type": "stream",
          "text": [
            "/content/own_data_cnn_implementation_keras/data\n"
          ],
          "name": "stdout"
        }
      ]
    },
    {
      "cell_type": "code",
      "metadata": {
        "id": "wTq8zkiq-fn-",
        "colab": {
          "base_uri": "https://localhost:8080/"
        },
        "outputId": "6ec662ff-f521-4088-d04f-46e83703dc36"
      },
      "source": [
        "!ls"
      ],
      "execution_count": 30,
      "outputs": [
        {
          "output_type": "stream",
          "text": [
            "cats  dogs  horses  humans\n"
          ],
          "name": "stdout"
        }
      ]
    },
    {
      "cell_type": "code",
      "metadata": {
        "id": "0rD6Czsl-mKv",
        "colab": {
          "base_uri": "https://localhost:8080/"
        },
        "outputId": "6c7ea7b8-5696-4911-a6a2-f60137daa112"
      },
      "source": [
        "cd .."
      ],
      "execution_count": 31,
      "outputs": [
        {
          "output_type": "stream",
          "text": [
            "/content/own_data_cnn_implementation_keras\n"
          ],
          "name": "stdout"
        }
      ]
    },
    {
      "cell_type": "code",
      "metadata": {
        "id": "1SMfxY43-oMt"
      },
      "source": [
        "!rm -rf data.zip"
      ],
      "execution_count": 32,
      "outputs": []
    },
    {
      "cell_type": "code",
      "metadata": {
        "id": "vMfucind-tXG",
        "colab": {
          "base_uri": "https://localhost:8080/"
        },
        "outputId": "11695a39-a8fd-46b8-be18-4c7e5d9d08b6"
      },
      "source": [
        "!ls"
      ],
      "execution_count": 33,
      "outputs": [
        {
          "output_type": "stream",
          "text": [
            "_config.yml  custom_data_cnn.py  data  README.md  updated_custom_data_cnn.py\n"
          ],
          "name": "stdout"
        }
      ]
    },
    {
      "cell_type": "code",
      "metadata": {
        "id": "qf9GLCpf-8Ge",
        "colab": {
          "base_uri": "https://localhost:8080/"
        },
        "outputId": "4bfef385-700b-493b-99ce-d455e0e939c1"
      },
      "source": [
        "from tensorflow.python.client import device_lib\n",
        "device_lib.list_local_devices()"
      ],
      "execution_count": 34,
      "outputs": [
        {
          "output_type": "execute_result",
          "data": {
            "text/plain": [
              "[name: \"/device:CPU:0\"\n",
              " device_type: \"CPU\"\n",
              " memory_limit: 268435456\n",
              " locality {\n",
              " }\n",
              " incarnation: 17741234251594500027, name: \"/device:XLA_CPU:0\"\n",
              " device_type: \"XLA_CPU\"\n",
              " memory_limit: 17179869184\n",
              " locality {\n",
              " }\n",
              " incarnation: 2479928980928112060\n",
              " physical_device_desc: \"device: XLA_CPU device\"]"
            ]
          },
          "metadata": {
            "tags": []
          },
          "execution_count": 34
        }
      ]
    },
    {
      "cell_type": "code",
      "metadata": {
        "id": "Ge2FTJAA_3Z7",
        "colab": {
          "base_uri": "https://localhost:8080/"
        },
        "outputId": "d20b39bc-bdb3-41df-a651-8b122921d191"
      },
      "source": [
        "!cat /proc/cpuinfo"
      ],
      "execution_count": 35,
      "outputs": [
        {
          "output_type": "stream",
          "text": [
            "processor\t: 0\n",
            "vendor_id\t: GenuineIntel\n",
            "cpu family\t: 6\n",
            "model\t\t: 63\n",
            "model name\t: Intel(R) Xeon(R) CPU @ 2.30GHz\n",
            "stepping\t: 0\n",
            "microcode\t: 0x1\n",
            "cpu MHz\t\t: 2300.000\n",
            "cache size\t: 46080 KB\n",
            "physical id\t: 0\n",
            "siblings\t: 2\n",
            "core id\t\t: 0\n",
            "cpu cores\t: 1\n",
            "apicid\t\t: 0\n",
            "initial apicid\t: 0\n",
            "fpu\t\t: yes\n",
            "fpu_exception\t: yes\n",
            "cpuid level\t: 13\n",
            "wp\t\t: yes\n",
            "flags\t\t: fpu vme de pse tsc msr pae mce cx8 apic sep mtrr pge mca cmov pat pse36 clflush mmx fxsr sse sse2 ss ht syscall nx pdpe1gb rdtscp lm constant_tsc rep_good nopl xtopology nonstop_tsc cpuid tsc_known_freq pni pclmulqdq ssse3 fma cx16 pcid sse4_1 sse4_2 x2apic movbe popcnt aes xsave avx f16c rdrand hypervisor lahf_lm abm invpcid_single ssbd ibrs ibpb stibp fsgsbase tsc_adjust bmi1 avx2 smep bmi2 erms invpcid xsaveopt arat md_clear arch_capabilities\n",
            "bugs\t\t: cpu_meltdown spectre_v1 spectre_v2 spec_store_bypass l1tf mds swapgs\n",
            "bogomips\t: 4600.00\n",
            "clflush size\t: 64\n",
            "cache_alignment\t: 64\n",
            "address sizes\t: 46 bits physical, 48 bits virtual\n",
            "power management:\n",
            "\n",
            "processor\t: 1\n",
            "vendor_id\t: GenuineIntel\n",
            "cpu family\t: 6\n",
            "model\t\t: 63\n",
            "model name\t: Intel(R) Xeon(R) CPU @ 2.30GHz\n",
            "stepping\t: 0\n",
            "microcode\t: 0x1\n",
            "cpu MHz\t\t: 2300.000\n",
            "cache size\t: 46080 KB\n",
            "physical id\t: 0\n",
            "siblings\t: 2\n",
            "core id\t\t: 0\n",
            "cpu cores\t: 1\n",
            "apicid\t\t: 1\n",
            "initial apicid\t: 1\n",
            "fpu\t\t: yes\n",
            "fpu_exception\t: yes\n",
            "cpuid level\t: 13\n",
            "wp\t\t: yes\n",
            "flags\t\t: fpu vme de pse tsc msr pae mce cx8 apic sep mtrr pge mca cmov pat pse36 clflush mmx fxsr sse sse2 ss ht syscall nx pdpe1gb rdtscp lm constant_tsc rep_good nopl xtopology nonstop_tsc cpuid tsc_known_freq pni pclmulqdq ssse3 fma cx16 pcid sse4_1 sse4_2 x2apic movbe popcnt aes xsave avx f16c rdrand hypervisor lahf_lm abm invpcid_single ssbd ibrs ibpb stibp fsgsbase tsc_adjust bmi1 avx2 smep bmi2 erms invpcid xsaveopt arat md_clear arch_capabilities\n",
            "bugs\t\t: cpu_meltdown spectre_v1 spectre_v2 spec_store_bypass l1tf mds swapgs\n",
            "bogomips\t: 4600.00\n",
            "clflush size\t: 64\n",
            "cache_alignment\t: 64\n",
            "address sizes\t: 46 bits physical, 48 bits virtual\n",
            "power management:\n",
            "\n"
          ],
          "name": "stdout"
        }
      ]
    },
    {
      "cell_type": "code",
      "metadata": {
        "id": "VmesGrMe_-Jc",
        "colab": {
          "base_uri": "https://localhost:8080/"
        },
        "outputId": "04424289-3862-4f06-803a-7adc2fc4da3a"
      },
      "source": [
        "!cat /proc/meminfo"
      ],
      "execution_count": 36,
      "outputs": [
        {
          "output_type": "stream",
          "text": [
            "MemTotal:       13333636 kB\n",
            "MemFree:        10486644 kB\n",
            "MemAvailable:   12412296 kB\n",
            "Buffers:           76552 kB\n",
            "Cached:          1980656 kB\n",
            "SwapCached:            0 kB\n",
            "Active:           754976 kB\n",
            "Inactive:        1828912 kB\n",
            "Active(anon):     480908 kB\n",
            "Inactive(anon):      340 kB\n",
            "Active(file):     274068 kB\n",
            "Inactive(file):  1828572 kB\n",
            "Unevictable:           0 kB\n",
            "Mlocked:               0 kB\n",
            "SwapTotal:             0 kB\n",
            "SwapFree:              0 kB\n",
            "Dirty:              1876 kB\n",
            "Writeback:             0 kB\n",
            "AnonPages:        526752 kB\n",
            "Mapped:           362336 kB\n",
            "Shmem:               940 kB\n",
            "Slab:             167044 kB\n",
            "SReclaimable:     127640 kB\n",
            "SUnreclaim:        39404 kB\n",
            "KernelStack:        4880 kB\n",
            "PageTables:         7084 kB\n",
            "NFS_Unstable:          0 kB\n",
            "Bounce:                0 kB\n",
            "WritebackTmp:          0 kB\n",
            "CommitLimit:     6666816 kB\n",
            "Committed_AS:    3357416 kB\n",
            "VmallocTotal:   34359738367 kB\n",
            "VmallocUsed:           0 kB\n",
            "VmallocChunk:          0 kB\n",
            "Percpu:              952 kB\n",
            "AnonHugePages:         0 kB\n",
            "ShmemHugePages:        0 kB\n",
            "ShmemPmdMapped:        0 kB\n",
            "HugePages_Total:       0\n",
            "HugePages_Free:        0\n",
            "HugePages_Rsvd:        0\n",
            "HugePages_Surp:        0\n",
            "Hugepagesize:       2048 kB\n",
            "Hugetlb:               0 kB\n",
            "DirectMap4k:       81128 kB\n",
            "DirectMap2M:     5160960 kB\n",
            "DirectMap1G:    10485760 kB\n"
          ],
          "name": "stdout"
        }
      ]
    },
    {
      "cell_type": "code",
      "metadata": {
        "id": "dMXbMO2QAJp1"
      },
      "source": [
        "import tensorflow as tf\n",
        "tf.nn.sigmoid_cross_entropy_with_logits?\n",
        "#tf.nn.sigmoid_cross_entropy_with_logits()"
      ],
      "execution_count": 37,
      "outputs": []
    },
    {
      "cell_type": "code",
      "metadata": {
        "id": "gcmdJD9CvhuT",
        "colab": {
          "base_uri": "https://localhost:8080/"
        },
        "outputId": "68d42ebe-286d-4a54-ab6a-ee73ea7bc54c"
      },
      "source": [
        "import time\n",
        "print(time.ctime())"
      ],
      "execution_count": 38,
      "outputs": [
        {
          "output_type": "stream",
          "text": [
            "Thu Nov 26 09:42:53 2020\n"
          ],
          "name": "stdout"
        }
      ]
    },
    {
      "cell_type": "code",
      "metadata": {
        "id": "b15K8GtCPXV6",
        "colab": {
          "base_uri": "https://localhost:8080/"
        },
        "outputId": "1d556636-84da-4eb0-d9e5-48de3d62f6b3"
      },
      "source": [
        "time.sleep(5)\n",
        "print (time.ctime())"
      ],
      "execution_count": 39,
      "outputs": [
        {
          "output_type": "stream",
          "text": [
            "Thu Nov 26 09:42:58 2020\n"
          ],
          "name": "stdout"
        }
      ]
    },
    {
      "cell_type": "markdown",
      "metadata": {
        "id": "Q8Jpu885Pes5"
      },
      "source": [
        "This is **bold**.\n",
        "This is *italic*.\n",
        "This is ~strikethrough~."
      ]
    },
    {
      "cell_type": "markdown",
      "metadata": {
        "id": "bhtiiO66Phs5"
      },
      "source": [
        "$\\sqrt{3x-1}+(1+x)^2$"
      ]
    },
    {
      "cell_type": "markdown",
      "metadata": {
        "id": "2B83C03FPjHR"
      },
      "source": [
        "$e^x=\\sum_{i=0}^\\infty \\frac{1}{i!}x^i$"
      ]
    },
    {
      "cell_type": "markdown",
      "metadata": {
        "id": "D0kqRf4CPlSx"
      },
      "source": [
        "Constraints are\n",
        "- $3x_1 + 6x_2 + x_3 =< 28$\n",
        "- $7x_1 + 3x_2 + 2x_3 =< 37$\n",
        "- $4x_1 + 5x_2 + 2x_3 =< 19$\n",
        "- $x_1,x_2,x_3 >=0 $\n",
        "\n",
        "The trial vector is calculated as follows:\n",
        "- $u_i(t) = x_i(t) + \\beta(\\hat{x}(t) − x_i(t)) + \\beta \\sum_{k = 1}^{n\n",
        "_v}(x_{i1,k}(t) − x_{i2,k}(t))$\n",
        "\n",
        "$f(x_1, x_2) = 20 + e - 20exp(-0.2 \\sqrt {\\frac {1}{n} (x_1^2 + x_2^2)}) - exp\n",
        "(\\frac {1}{n}(cos(2\\pi x_1) + cos(2\\pi x_2))$\n",
        "$x ∈ [-5, 5]$\n",
        ">$A_{m,n} =\n",
        "\\begin{pmatrix}\n",
        "a_{1,1} & a_{1,2} & \\cdots & a_{1,n} \\\\\n",
        "a_{2,1} & a_{2,2} & \\cdots & a_{2,n} \\\\\n",
        "\\vdots & \\vdots & \\ddots & \\vdots \\\\\n",
        "a_{m,1} & a_{m,2} & \\cdots & a_{m,n}\n",
        "\\end{pmatrix}$"
      ]
    },
    {
      "cell_type": "markdown",
      "metadata": {
        "id": "SG-GNBusROjQ"
      },
      "source": [
        "**Saving to Google Drive**\n",
        "\n",
        "\n",
        "![picture](https://www.tutorialspoint.com/google_colab/images/saving_google_drive.jpg)"
      ]
    },
    {
      "cell_type": "markdown",
      "metadata": {
        "id": "4FlHtCfMRaRQ"
      },
      "source": [
        "**Saving to GitHub**\n",
        "\n",
        "![picture](https://www.tutorialspoint.com/google_colab/images/login_screen_github.jpg)\n",
        "\n",
        "![picture](https://www.tutorialspoint.com/google_colab/images/copy_to_github.jpg)"
      ]
    },
    {
      "cell_type": "markdown",
      "metadata": {
        "id": "pLibrz7zR5T_"
      },
      "source": [
        "**Google Colab – Sharing Notebook**\n",
        "\n",
        "![picture](https://www.tutorialspoint.com/google_colab/images/sharing_notebook.jpg)"
      ]
    },
    {
      "cell_type": "markdown",
      "metadata": {
        "id": "gna-GOgaSTaI"
      },
      "source": [
        "**Simple Commands**"
      ]
    },
    {
      "cell_type": "code",
      "metadata": {
        "id": "0z-QvmXUServ"
      },
      "source": [
        "message = 'welcome to the tutorial on Colab by GITAM University!'\n",
        "greeting = !echo -e '$message\\n$message'\n",
        "greeting"
      ],
      "execution_count": null,
      "outputs": []
    },
    {
      "cell_type": "markdown",
      "metadata": {
        "id": "ihjgRRakSxE-"
      },
      "source": [
        "**Getting remote data**"
      ]
    },
    {
      "cell_type": "code",
      "metadata": {
        "id": "_oGXApqKSmy-"
      },
      "source": [
        "!wget http://archive.ics.uci.edu/ml/machine-learning-databases/adult/adult.data"
      ],
      "execution_count": null,
      "outputs": []
    },
    {
      "cell_type": "code",
      "metadata": {
        "id": "cT_yRc5hTLW2"
      },
      "source": [
        "import pandas as pd\n",
        "data = pd.read_csv(\"adult.data\")\n",
        "data.head(5)"
      ],
      "execution_count": null,
      "outputs": []
    },
    {
      "cell_type": "markdown",
      "metadata": {
        "id": "yG3-JQKaTjhd"
      },
      "source": [
        "**Cloning Git Repository**\n",
        "\n",
        "https://github.com/wxs/keras-mnist-tutorial/blob/master/MNIST%20in%20Keras.ipynb"
      ]
    },
    {
      "cell_type": "code",
      "metadata": {
        "id": "il_fUh1fTav9"
      },
      "source": [
        "!git clone https://github.com/wxs/keras-mnist-tutorial.git"
      ],
      "execution_count": null,
      "outputs": []
    },
    {
      "cell_type": "markdown",
      "metadata": {
        "id": "sJOAl0XbTu0V"
      },
      "source": [
        "To get a list of shortcuts for common operations, execute the following command"
      ]
    },
    {
      "cell_type": "code",
      "metadata": {
        "id": "JIJElkshTzuD"
      },
      "source": [
        "!ls /bin"
      ],
      "execution_count": null,
      "outputs": []
    },
    {
      "cell_type": "markdown",
      "metadata": {
        "id": "5sk1cAZpUXQN"
      },
      "source": [
        "**Mounting Drive**\n",
        "\n",
        "Tools / Command palette"
      ]
    },
    {
      "cell_type": "code",
      "metadata": {
        "id": "EawJv725T1RN"
      },
      "source": [
        "!pip install kaggle"
      ],
      "execution_count": null,
      "outputs": []
    },
    {
      "cell_type": "code",
      "metadata": {
        "id": "6keWb2xMfpRs"
      },
      "source": [
        "from google.colab import files\n",
        "files.upload()"
      ],
      "execution_count": null,
      "outputs": []
    },
    {
      "cell_type": "code",
      "metadata": {
        "id": "f7dHdH-igRKS"
      },
      "source": [
        "!mkdir -p ~/.kaggle\n",
        "!cp kaggle.json ~/.kaggle/\n",
        "!chmod 600 ~/.kaggle/kaggle.json"
      ],
      "execution_count": null,
      "outputs": []
    },
    {
      "cell_type": "code",
      "metadata": {
        "id": "y-B3AgOOggWx"
      },
      "source": [
        "!kaggle datasets download -d hojjatk/mnist-dataset"
      ],
      "execution_count": null,
      "outputs": []
    },
    {
      "cell_type": "code",
      "metadata": {
        "id": "GUfWKW58hhtQ"
      },
      "source": [
        "!unzip mnist-dataset.zip"
      ],
      "execution_count": null,
      "outputs": []
    },
    {
      "cell_type": "code",
      "metadata": {
        "id": "sTTAdafPhp8g"
      },
      "source": [
        "!kaggle datasets download -d oddrationale/mnist-in-csv"
      ],
      "execution_count": null,
      "outputs": []
    },
    {
      "cell_type": "code",
      "metadata": {
        "id": "uaPzVbrvh0dw"
      },
      "source": [
        "!unzip mnist-in-csv.zip"
      ],
      "execution_count": null,
      "outputs": []
    },
    {
      "cell_type": "code",
      "metadata": {
        "id": "wrLu6v00h63A"
      },
      "source": [
        "import pandas as pd\n",
        "df = pd.read_csv('mnist_train.csv')\n",
        "df.head()"
      ],
      "execution_count": null,
      "outputs": []
    },
    {
      "cell_type": "markdown",
      "metadata": {
        "id": "XO7REFaUicF7"
      },
      "source": [
        "**functions calling in google colab**"
      ]
    },
    {
      "cell_type": "code",
      "metadata": {
        "id": "RmJY71PUmMwa"
      },
      "source": [
        "pwd"
      ],
      "execution_count": null,
      "outputs": []
    },
    {
      "cell_type": "code",
      "metadata": {
        "id": "hdEryvyDima_"
      },
      "source": [
        "from func_test import state\n",
        "state(3)"
      ],
      "execution_count": null,
      "outputs": []
    },
    {
      "cell_type": "code",
      "metadata": {
        "id": "LNT0BHj7mGbs"
      },
      "source": [
        ""
      ],
      "execution_count": null,
      "outputs": []
    }
  ]
}